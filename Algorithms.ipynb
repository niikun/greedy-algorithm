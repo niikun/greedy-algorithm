{
  "nbformat": 4,
  "nbformat_minor": 0,
  "metadata": {
    "colab": {
      "provenance": [],
      "authorship_tag": "ABX9TyPrAzicXiCJ10flMAeJkTiE",
      "include_colab_link": true
    },
    "kernelspec": {
      "name": "python3",
      "display_name": "Python 3"
    },
    "language_info": {
      "name": "python"
    }
  },
  "cells": [
    {
      "cell_type": "markdown",
      "metadata": {
        "id": "view-in-github",
        "colab_type": "text"
      },
      "source": [
        "<a href=\"https://colab.research.google.com/github/niikun/greedy-algorithm/blob/main/Algorithms.ipynb\" target=\"_parent\"><img src=\"https://colab.research.google.com/assets/colab-badge.svg\" alt=\"Open In Colab\"/></a>"
      ]
    },
    {
      "cell_type": "markdown",
      "source": [
        "# Greedy Coin\n",
        "\"\"\" Greedy Coin Change Algorithm\n",
        "1. 関数 greedy_coin は、客に渡す小銭の額を引数に取る。\n",
        "2. この関数は、顧客にお釣りの額を伝えるステートメントを出力します。\n",
        "3. この関数は、硬貨のリスト（クォーター、ダイム、ニッケル、ペニー）と、硬貨とその額面 を対応付ける辞書を初期化します。\n",
        "4. この関数は、各硬貨の枚数を格納する辞書を初期化します。\n",
        "5. この関数は、硬貨のリストを調べ、各硬貨について0という値で辞書を初期化します。\n",
        "6. この関数はコインのリストを調べます。\n",
        "7. この関数は、釣り銭が硬貨より少なくなるまで、客が受け取る釣り銭から硬貨を引きます。\n",
        "8. そして、その種類の硬貨の枚数を1枚増やします。\n",
        "9. この関数は、顧客が得ている各硬貨の枚数を表示します。\n",
        "10. この関数は、各コインの種類の数を含む辞書を返します。"
      ],
      "metadata": {
        "id": "scFpN9vw4h0d"
      }
    },
    {
      "cell_type": "code",
      "execution_count": null,
      "metadata": {
        "id": "KgrPs3XG4TB2"
      },
      "outputs": [],
      "source": [
        " \"\"\"Return a dictionary with the coin type as the key and the number of coins as the value\"\"\"\n",
        "coins = [0.25, 0.10, 0.05, 0.01]\n",
        "coin_lookup = {0.25: \"quarter\", 0.10: \"dime\", 0.05: \"nickel\", 0.01: \"penny\"}\n",
        "coin_dict = {}"
      ]
    },
    {
      "cell_type": "code",
      "source": [
        "def greedy_coin(amount):\n",
        "\n",
        "    coins = [0.25, 0.10, 0.05, 0.01]\n",
        "    coin_lookup = {0.25: \"quarter\", 0.10: \"dime\", 0.05: \"nickel\", 0.01: \"penny\"}\n",
        "    coin_dict = {}\n",
        "    while amount > 0:\n",
        "        for coin in coins:\n",
        "            if amount >=coin:\n",
        "                amount -= coin\n",
        "                amount = round(amount,2)\n",
        "                coin_name = coin_lookup[coin]\n",
        "                if coin_name not in coin_dict.keys():\n",
        "                    coin_dict[coin_name]=1\n",
        "                else:\n",
        "                    coin_dict[coin_name] +=1\n",
        "                break\n",
        "\n",
        "    return coin_dict\n"
      ],
      "metadata": {
        "id": "1FWhimkq5Kzh"
      },
      "execution_count": null,
      "outputs": []
    },
    {
      "cell_type": "code",
      "source": [
        "coin_dict = greedy_coin(0.99)\n",
        "coin_dict"
      ],
      "metadata": {
        "colab": {
          "base_uri": "https://localhost:8080/"
        },
        "id": "DwpaCOAW9-mI",
        "outputId": "f9fc7649-0b8f-4377-b3b1-4c2e515a4ed8"
      },
      "execution_count": null,
      "outputs": [
        {
          "output_type": "execute_result",
          "data": {
            "text/plain": [
              "{'quarter': 3, 'dime': 2, 'penny': 4}"
            ]
          },
          "metadata": {},
          "execution_count": 16
        }
      ]
    },
    {
      "cell_type": "code",
      "source": [
        "amount=0.99\n",
        "while amount > 0:\n",
        "\n",
        "    for coin in coins:\n",
        "        if amount >= coin:\n",
        "            amount -= coin\n",
        "            amount = round(amount,2)\n",
        "            coin_name = coin_lookup[coin]\n",
        "            if coin_name not in coin_dict.keys():\n",
        "                coin_dict[coin_name]=1\n",
        "            else:\n",
        "                coin_dict[coin_name] +=1\n",
        "            break"
      ],
      "metadata": {
        "id": "6ocnXiku6R7d"
      },
      "execution_count": null,
      "outputs": []
    },
    {
      "cell_type": "code",
      "source": [
        "value = 0\n",
        "for k,v in coin_lookup.items():\n",
        "    try:\n",
        "        value += coin_dict[v]*k\n",
        "    except:\n",
        "        pass\n",
        "\n",
        "value"
      ],
      "metadata": {
        "colab": {
          "base_uri": "https://localhost:8080/"
        },
        "id": "rCfl7rtd8cc6",
        "outputId": "d937f42e-f743-4d85-c059-0ca666f40886"
      },
      "execution_count": null,
      "outputs": [
        {
          "output_type": "execute_result",
          "data": {
            "text/plain": [
              "0.99"
            ]
          },
          "metadata": {},
          "execution_count": 17
        }
      ]
    },
    {
      "cell_type": "code",
      "source": [
        "def coin_dict_check(coin_dict):\n",
        "    value = 0\n",
        "    for k,v in coin_lookup.items():\n",
        "        try:\n",
        "            value += coin_dict[v]*k\n",
        "        except:\n",
        "            pass\n",
        "\n",
        "    return value"
      ],
      "metadata": {
        "id": "5x6HP5Au9M_C"
      },
      "execution_count": null,
      "outputs": []
    },
    {
      "cell_type": "code",
      "source": [
        "coin_dict_check(coin_dict)"
      ],
      "metadata": {
        "colab": {
          "base_uri": "https://localhost:8080/"
        },
        "id": "3FJ-fGcV-rCF",
        "outputId": "f798a0cc-02d4-4f7b-d91e-47b193338fd3"
      },
      "execution_count": null,
      "outputs": [
        {
          "output_type": "execute_result",
          "data": {
            "text/plain": [
              "0.99"
            ]
          },
          "metadata": {},
          "execution_count": 21
        }
      ]
    },
    {
      "cell_type": "code",
      "source": [],
      "metadata": {
        "id": "EiirDgqQ-vQq"
      },
      "execution_count": null,
      "outputs": []
    }
  ]
}